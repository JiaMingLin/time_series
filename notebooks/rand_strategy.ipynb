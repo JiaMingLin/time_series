{
 "cells": [
  {
   "cell_type": "code",
   "execution_count": 18,
   "id": "cb0ac6c1-59c6-4f2a-9851-e57dbc64db58",
   "metadata": {},
   "outputs": [],
   "source": [
    "from datetime import datetime\n",
    "import pandas as pd\n",
    "import os\n"
   ]
  },
  {
   "cell_type": "markdown",
   "id": "01fd82c5-9492-41e5-99a5-ddcb146b2db1",
   "metadata": {},
   "source": [
    "### Stock List"
   ]
  },
  {
   "cell_type": "code",
   "execution_count": 27,
   "id": "e0248db3-62f2-46b4-bd94-87451cb95599",
   "metadata": {},
   "outputs": [
    {
     "name": "stdout",
     "output_type": "stream",
     "text": [
      "AAPL.csv   CVX.csv  GOOGL.csv  MO.csv\t PFE.csv    T.csv     WMT.csv\n",
      "AMZN.csv   DCM.csv  HD.csv     MRK.csv\t PG.csv     TM.csv    XOM.csv\n",
      "BAC.csv    D.csv    INTC.csv   MSFT.csv  PTR.csv    TOT.csv\n",
      "BA.csv\t   DIS.csv  JNJ.csv    NGG.csv\t RDS-B.csv  UNH.csv\n",
      "BHP.csv    DOW.csv  JPM.csv    NTT.csv\t RIO.csv    UPS.csv\n",
      "BRK-B.csv  DUK.csv  KO.csv     NVS.csv\t SO.csv     VALE.csv\n",
      "CHL.csv    EXC.csv  MA.csv     ORCL.csv  SPY.csv    VZ.csv\n",
      "CMCSA.csv  GE.csv   MMM.csv    PEP.csv\t SYT.csv    WFC.csv\n"
     ]
    }
   ],
   "source": [
    "data_path = '/home/jiaming/git/time_series/data/kdd17/price_long_50'\n",
    "# data_path = '/home/jiaming/git/time_series/data/stocknet-dataset/price/raw'\n",
    "! ls {data_path}"
   ]
  },
  {
   "cell_type": "code",
   "execution_count": null,
   "id": "ac6ceeaf-3067-41db-afd5-8c739e44c71c",
   "metadata": {},
   "outputs": [],
   "source": []
  }
 ],
 "metadata": {
  "kernelspec": {
   "display_name": "tf_2_13",
   "language": "python",
   "name": "stock_tf"
  },
  "language_info": {
   "codemirror_mode": {
    "name": "ipython",
    "version": 3
   },
   "file_extension": ".py",
   "mimetype": "text/x-python",
   "name": "python",
   "nbconvert_exporter": "python",
   "pygments_lexer": "ipython3",
   "version": "3.9.18"
  }
 },
 "nbformat": 4,
 "nbformat_minor": 5
}
